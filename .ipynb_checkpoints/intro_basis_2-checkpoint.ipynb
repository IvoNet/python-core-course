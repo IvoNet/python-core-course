{
 "cells": [
  {
   "cell_type": "markdown",
   "metadata": {
    "slideshow": {
     "slide_type": "slide"
    }
   },
   "source": [
    "# Python course - Flow control"
   ]
  },
  {
   "cell_type": "code",
   "execution_count": null,
   "metadata": {
    "slideshow": {
     "slide_type": "slide"
    }
   },
   "outputs": [],
   "source": [
    "values = [13, 26, 0, 9.7, 4, 7, 54.3, 81]"
   ]
  },
  {
   "cell_type": "code",
   "execution_count": null,
   "metadata": {},
   "outputs": [],
   "source": [
    "a = [x for x in values if x < 20.0]\n",
    "print(a)\n",
    "\n",
    "\n",
    "a = []\n",
    "for value in values:\n",
    "    if value < 20:\n",
    "        a.append(value)\n",
    "print(a)"
   ]
  },
  {
   "cell_type": "code",
   "execution_count": null,
   "metadata": {},
   "outputs": [],
   "source": [
    "l = [1,2,3,4,\"a\",5]\n",
    "l2 = []\n",
    "for item in l:\n",
    "    try:\n",
    "        l2.append(int(item))\n",
    "    except ValueError:\n",
    "        l2.append(0)\n",
    "print(l2)\n",
    "l2.sort(reverse=True)\n",
    "#l2.reverse()\n",
    "print(l2)"
   ]
  },
  {
   "cell_type": "markdown",
   "metadata": {},
   "source": [
    "`if` statement in a `for` statement"
   ]
  },
  {
   "cell_type": "code",
   "execution_count": null,
   "metadata": {},
   "outputs": [],
   "source": [
    "for value in values:\n",
    "    \"\"\"Provide this with code to print a message saying whether the number is odd or even.\n",
    "    \"\"\"\n",
    "    # if value == 0:\n",
    "    #     print(\"It could not be determined whether the number {} is odd or even.\".format(value))\n",
    "    if value % 2 == 0 and value > 0:\n",
    "        print(\"The number {} is even.\".format(value))\n",
    "    elif value % 2 == 1:\n",
    "        print(\"The number {} is odd.\".format(value))\n",
    "    else:\n",
    "        print(\"It could not be determined whether the number {} is odd or even.\".format(value))\n",
    "\n"
   ]
  },
  {
   "cell_type": "markdown",
   "metadata": {},
   "source": [
    "`for` statement"
   ]
  },
  {
   "cell_type": "code",
   "execution_count": null,
   "metadata": {},
   "outputs": [],
   "source": [
    "grades = {\"Geography\": 8.5,\n",
    "          \"Chemistry\": 7,\n",
    "          \"English\": 6,\n",
    "          \"Economics\": 7,\n",
    "          \"Physics\": 9,\n",
    "          \"Mathematics\": 8.5}\n",
    "\n",
    "for subject in grades.keys():\n",
    "    print(\"Jantje received a {grade} for {subject}.\".format(grade=grades[subject]\n",
    "                                                            , subject=subject))\n"
   ]
  },
  {
   "cell_type": "code",
   "execution_count": null,
   "metadata": {},
   "outputs": [],
   "source": [
    "x = 20\n",
    "while x >= 10:\n",
    "    print(x)\n",
    "    x -= 1\n",
    "print(\"Done.\")"
   ]
  },
  {
   "cell_type": "markdown",
   "metadata": {},
   "source": [
    "* pass\n",
    "* operators"
   ]
  },
  {
   "cell_type": "code",
   "execution_count": null,
   "metadata": {},
   "outputs": [],
   "source": [
    "i = 0\n",
    "while True:\n",
    "    i += 1\n",
    "    if i % 13 == 0:\n",
    "        print(\"Done\")\n",
    "        break\n",
    "    if i % 2 == 0:\n",
    "        continue\n",
    "    print(i)"
   ]
  },
  {
   "cell_type": "markdown",
   "metadata": {},
   "source": [
    "# Functions"
   ]
  },
  {
   "cell_type": "code",
   "execution_count": null,
   "metadata": {},
   "outputs": [],
   "source": [
    "def myfunc(param0, param1=\"World\", param2=100, param3=[1,2,3,4]):\n",
    "    \"\"\"I do this\"\"\"\n",
    "    foo=\"a\"\n",
    "    return (\"Hello {} -> {}\".format(param1, param0), \"other\")\n",
    "\n",
    "a, b = myfunc(\"asdf\")\n",
    "print(myfunc.__doc__)\n",
    "\n"
   ]
  },
  {
   "cell_type": "code",
   "execution_count": null,
   "metadata": {},
   "outputs": [],
   "source": [
    "def yourfunc(*args, **kwargs):\n",
    "    print(args, kwargs)\n",
    "    for arg in args:\n",
    "        print(arg)\n",
    "        \n",
    "yourfunc(1, a=\"a\", b=4, c=3, f=\"j\")\n",
    "yourfunc()"
   ]
  },
  {
   "cell_type": "markdown",
   "metadata": {},
   "source": [
    "# Buildin functions\n",
    "\n",
    "[https://docs.python.org/3/library/functions.html](https://docs.python.org/3/library/functions.html)"
   ]
  },
  {
   "cell_type": "code",
   "execution_count": null,
   "metadata": {},
   "outputs": [],
   "source": [
    "x = 41 / 2"
   ]
  }
 ],
 "metadata": {
  "kernelspec": {
   "display_name": "Python 3",
   "language": "python",
   "name": "python3"
  },
  "language_info": {
   "codemirror_mode": {
    "name": "ipython",
    "version": 3
   },
   "file_extension": ".py",
   "mimetype": "text/x-python",
   "name": "python",
   "nbconvert_exporter": "python",
   "pygments_lexer": "ipython3",
   "version": "3.6.5"
  }
 },
 "nbformat": 4,
 "nbformat_minor": 2
}
