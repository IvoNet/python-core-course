{
 "cells": [
  {
   "cell_type": "markdown",
   "metadata": {
    "slideshow": {
     "slide_type": "slide"
    }
   },
   "source": [
    "## Welcome to the introduction of Python\n",
    "\n",
    "Python is a high-end programming language that encapsulates lots of functionality. We will explain some of this functionality below.\n",
    "\n",
    "A part of it is about numerical calculations, such as in the example below. We start from there, and work our way to more complicated tasks. We do this because a computer is nothing but a glorified calculator. So we start with the simplest calculation known.\n",
    "\n",
    "* Welcome and intro\n",
    "* [What is python](https://www.python.org/about/)\n",
    "* [Installing and setting up](https://www.python.org/downloads/)\n",
    "* Google is your friend and StackOverflow even more!\n"
   ]
  },
  {
   "cell_type": "code",
   "execution_count": null,
   "metadata": {
    "slideshow": {
     "slide_type": "slide"
    }
   },
   "outputs": [],
   "source": [
    "1 + 1"
   ]
  },
  {
   "cell_type": "markdown",
   "metadata": {
    "slideshow": {
     "slide_type": "slide"
    }
   },
   "source": [
    "Sometimes it's useful to store the result of a calculation in a variable. In Python this is very easy."
   ]
  },
  {
   "cell_type": "code",
   "execution_count": null,
   "metadata": {
    "slideshow": {
     "slide_type": "subslide"
    }
   },
   "outputs": [],
   "source": [
    "x = 1 + 42"
   ]
  },
  {
   "cell_type": "markdown",
   "metadata": {
    "slideshow": {
     "slide_type": "subslide"
    }
   },
   "source": [
    "You won't see any output now. This is part of how Python works. If the result of an operation is not stored in a variable, the result will be printed to the command line. We can still print if we want, but we have to use the print()-function for this."
   ]
  },
  {
   "cell_type": "code",
   "execution_count": null,
   "metadata": {
    "slideshow": {
     "slide_type": "subslide"
    }
   },
   "outputs": [],
   "source": [
    "print(x)"
   ]
  },
  {
   "cell_type": "markdown",
   "metadata": {
    "slideshow": {
     "slide_type": "slide"
    }
   },
   "source": [
    "Variables are divided into different types. The most important types are:\n",
    "* Integer\n",
    "* Float\n",
    "* String\n",
    "* List\n",
    "* Tuple\n",
    "* Dictionary\n"
   ]
  },
  {
   "cell_type": "markdown",
   "metadata": {
    "slideshow": {
     "slide_type": "slide"
    }
   },
   "source": [
    "## Integers en floats\n",
    "\n",
    "Integers and floats are both numbers. Integers are natural numbers, whereas floats are decimal numbers (2 vs. 2.0).\n",
    "For these numbers the following operations are possible:\n",
    "* addition (+)\n",
    "* subtraction (-)\n",
    "* multiplication (*)\n",
    "* division (/)\n",
    "* power (**)\n",
    "* modulo (%)\n",
    "* integer division (//)\n"
   ]
  },
  {
   "cell_type": "code",
   "execution_count": null,
   "metadata": {
    "slideshow": {
     "slide_type": "slide"
    }
   },
   "outputs": [],
   "source": [
    "# An integer is a whole, natural number\n",
    "\n",
    "print(\"This is for integers:\")\n",
    "print(\"2 + 3 = \", 2 + 3)\n",
    "print(\"2 - 3 = \", 2 - 3)\n",
    "print(\"7 // 2 = \", 7 // 2)\n",
    "\n",
    "print(\"\")\n",
    "print(\"These are floats floats:\")\n",
    "print(\"2.8 + 3.6 = \", 2.8 + 3.6)\n",
    "print(\"2.5 ** 3.6 = \", 2.5 ** 3.6)\n",
    "print(\"5.2 / 2.4 = \", 5.2 / 2.4)\n",
    "print(\"5.2 // 2.4 = \", 5.2 // 2.4)\n",
    "\n"
   ]
  },
  {
   "cell_type": "markdown",
   "metadata": {
    "slideshow": {
     "slide_type": "slide"
    }
   },
   "source": [
    "It is also possible to convert integers to floats and vice versa, using the int() and float() functions."
   ]
  },
  {
   "cell_type": "code",
   "execution_count": null,
   "metadata": {
    "slideshow": {
     "slide_type": "subslide"
    }
   },
   "outputs": [],
   "source": [
    "# Use this to try several operations\n",
    "\n",
    "# What is the difference between / and // ?\n",
    "# What is the function of the % operator? Try 25 % 4 to help find out.\n",
    "# Wat does int(12.6) do?\n",
    "int(12.6)\n"
   ]
  },
  {
   "cell_type": "markdown",
   "metadata": {
    "slideshow": {
     "slide_type": "slide"
    }
   },
   "source": [
    "## Lists\n",
    "\n",
    "Lists lists are nothing more than series of data. A list can contain numbers, strings, a combination thereof, or even a new list. A list is delimited by square brackets, and the elements of a list are separated by commas."
   ]
  },
  {
   "cell_type": "code",
   "execution_count": null,
   "metadata": {
    "slideshow": {
     "slide_type": "subslide"
    }
   },
   "outputs": [],
   "source": [
    "# A list of integers\n",
    "list_01 = [0, 1, 1, 2, 3, 5, 8, 13, 21, 34]\n",
    "print(list_01[-2:])\n",
    "\n",
    "# A list of floats\n",
    "list_02 = [0.0, 1.0, 3.141529, 2.71828, 6.626e-34]\n",
    "# print(list_02[])\n",
    "# A list of everything\n",
    "list_03 = [0, 2.5, \"test\", [0,2,3]]\n",
    "list_03[0]+=42\n",
    "print(list_03[2][1])\n",
    "len(list_03)\n",
    "print(dir(list_03))\n",
    "list_04=list_01+list_03\n",
    "print(list_04)\n",
    "\n",
    "\n",
    "l1 = [1,2,3]\n",
    "l2 = [4,5,6]\n",
    "l3 = []\n",
    "for value in l1:\n",
    "    print(value)\n",
    "for i in range(len(l1)):\n",
    "    l3.append(l1[i] + l2[i])\n",
    "    print(\"Added {1} to {0}.\".format(l1[i], l2[i]))\n",
    "#end for loop\n",
    "print(l3)"
   ]
  },
  {
   "cell_type": "code",
   "execution_count": null,
   "metadata": {},
   "outputs": [],
   "source": []
  },
  {
   "cell_type": "code",
   "execution_count": null,
   "metadata": {},
   "outputs": [],
   "source": []
  },
  {
   "cell_type": "code",
   "execution_count": null,
   "metadata": {},
   "outputs": [],
   "source": []
  },
  {
   "cell_type": "markdown",
   "metadata": {
    "slideshow": {
     "slide_type": "notes"
    }
   },
   "source": [
    "Lists are so-called \"iterable\" variables. That means they consist of separate elements that can be called individually. We can do this with the use of square brackets, and the index of the element between those brackets.\n",
    "\n",
    "For example, to print the element with index 4 from the list \"testlist\", we use: print(testlist[4])\n",
    "\n",
    "ATTENTION: Python starts counting at 0. To select the first element from the list \"testlist\", use \"testlist[0]\", enz.\n",
    "\n",
    "\n",
    "\n",
    "Furthermore, it is possible to select a range of elements using the following notation.\n",
    "\n",
    "testlist[start:stop:step]\n",
    "\n",
    "testlist[::step]\n",
    "testlist[:stop]\n",
    "testlist[start::step]\n",
    "\n",
    "Moreover, you can get the length of a list using the len() function."
   ]
  },
  {
   "cell_type": "code",
   "execution_count": null,
   "metadata": {
    "slideshow": {
     "slide_type": "slide"
    }
   },
   "outputs": [],
   "source": [
    "# Select the 6th up to and including the 9th element from list_01\n",
    "print(list_01[5:9])\n",
    "\n",
    "\n",
    "# Select every second element from list_02\n",
    "print(list_02[1::2])\n",
    "\n",
    "# Put list_03 in reverse order\n",
    "print(list_03[:])"
   ]
  },
  {
   "cell_type": "markdown",
   "metadata": {
    "slideshow": {
     "slide_type": "slide"
    }
   },
   "source": [
    "## Strings\n",
    "\n",
    "Strings are nothing but character series. They are delimited by \"\" or '', and it is considered good custom to maintain a single style. For the rest of this training we will use the double quotes to delimit strings.\n",
    "\n",
    "You can see two examples of a string in the example below."
   ]
  },
  {
   "cell_type": "code",
   "execution_count": null,
   "metadata": {
    "slideshow": {
     "slide_type": "slide"
    }
   },
   "outputs": [],
   "source": [
    "# Two examples of a string\n",
    "\n",
    "string1 = \"\"\"Dit is \"een\" \n",
    "asldkfjlaskdjf\n",
    "string.\"\"\"\n",
    "string2 = r'dit \\\"ook\\\"...'\n",
    "print(string2.upper())\n",
    "print(string1)\n",
    "print(string2)\n",
    "\n",
    "dir(\"\")\n",
    "help(\"\".casefold)\n",
    "\n"
   ]
  },
  {
   "cell_type": "markdown",
   "metadata": {},
   "source": [
    "There are several possible operations for strings. It is possible to add strings to one another, or to multiply them with integers. Try this with the strings of the previous example.\n",
    "\n",
    "What happens when you subtract two strings? Or multiply a string with a float?\n",
    "Is it possible to raise a string to a certain power? Add an explanation as a comment.\n",
    "\n",
    "Next to the examples above, there are many more tips and tricks for strings. You can find a long list of those on https://docs.python.org/3/library/stdtypes.html#str"
   ]
  },
  {
   "cell_type": "code",
   "execution_count": null,
   "metadata": {
    "slideshow": {
     "slide_type": "slide"
    }
   },
   "outputs": [],
   "source": [
    "# Perform the string operations here. Use the given strings, or come up with a few new ones.\n",
    "\n",
    "string1 = \"Hello\"\n",
    "string2 = \"world\""
   ]
  },
  {
   "cell_type": "code",
   "execution_count": null,
   "metadata": {
    "slideshow": {
     "slide_type": "slide"
    }
   },
   "outputs": [],
   "source": [
    "# Turn the string below into one that is applicable to you.\n",
    "\n",
    "# Use the str.replace() method.\n",
    "naam_plaats = \"My name is Ivo Woltring and I live in Montfoort.\"\n",
    "naam_plaats_2 = naam_plaats.replace(\"Ivo Woltring\", \"Cees Timmerman\")\\\n",
    "                           .replace(\"Montfoort\", \"Almere\")\n",
    "print(naam_plaats_2)\n",
    "\n",
    "# Use the str.format() method.\n",
    "hobby_tijd = \"My hobby is {hobby} and I have been doing that for {time} years.\"\n",
    "hobby_tijd_2 = hobby_tijd.format(hobby=\"survivalrun\"\n",
    "                                 , time=\"3\")\n",
    "print(hobby_tijd_2)\n",
    "\n",
    "# Divide the paragraph into three separate sentences. Use the str.split() method.\n",
    "paragraph = naam_plaats_2 + hobby_tijd_2 + \"Moreover, I have a younger brother and a younger sister\"\n",
    "print(paragraph)\n",
    "zinnen = paragraph.split(\"is\")\n",
    "print(zinnen)\n",
    "\n",
    "s = \"test\" + str(1)\n",
    "print(s)"
   ]
  },
  {
   "cell_type": "code",
   "execution_count": null,
   "metadata": {},
   "outputs": [],
   "source": []
  },
  {
   "cell_type": "markdown",
   "metadata": {},
   "source": [
    "## Tuples\n",
    "\n",
    "Tuples are comparable to lists, with the difference that the contents of a tuple are immutable. Tuples are marked by regular brackets instead of square brackets."
   ]
  },
  {
   "cell_type": "code",
   "execution_count": null,
   "metadata": {},
   "outputs": [],
   "source": [
    "# This is a list\n",
    "list_04 = [2, 5, 8, 3.4, 8]\n",
    "\n",
    "# This is a tuple\n",
    "tuple_01 = (2, 5, 8, 3.4, 8)\n",
    "\n",
    "# Try to change the value of the fourth element\n",
    "\n",
    "list_04[3] = 30000000\n",
    "#tuple_01[3] = 3\n",
    "print(list_04)\n",
    "\n",
    "fun = (1,2,[1,4,5,6])\n",
    "print(fun)\n",
    "fun[2].append(\"foo\")\n",
    "print(fun)\n",
    "del(fun[2][2])\n",
    "bar = list(fun)\n",
    "print(bar)\n",
    "print(type(bar))\n",
    "bar.__delitem__(2)\n",
    "print(bar)\n",
    "dir((1,))"
   ]
  },
  {
   "cell_type": "code",
   "execution_count": null,
   "metadata": {},
   "outputs": [],
   "source": [
    "s = 1j\n",
    "#i = int(s)\n",
    "print(s)"
   ]
  },
  {
   "cell_type": "markdown",
   "metadata": {},
   "source": [
    "## Dictionaries\n",
    "\n",
    "The last type of variable we discuss is the dictionary. A dictionary consists of a set of keywords and a corresponding value."
   ]
  },
  {
   "cell_type": "code",
   "execution_count": 37,
   "metadata": {},
   "outputs": [
    {
     "name": "stdout",
     "output_type": "stream",
     "text": [
      "{'asdf\\ndsa\\nfas\\ndf\\nasdf\\nafd\\n': 'bar', 'bar': 'foo', 'foo': 'baz'}\n",
      "10\n"
     ]
    }
   ],
   "source": [
    "# Here we define a pricelist for different types of fruit and vegetables. \n",
    "a={}\n",
    "a[\"\"\"asdf\n",
    "dsa\n",
    "fas\n",
    "df\n",
    "asdf\n",
    "afd\n",
    "\"\"\"]=\"bar\"\n",
    "a[\"bar\"]=\"foo\"\n",
    "a[\"foo\"]=\"baz\"\n",
    "print(a)\n",
    "prices = {\"apples\": 2.50,\n",
    "          \"pears\": 3.0,\n",
    "          \"carrots\": 10,\n",
    "          12: \"Not a fruit nor a vegetable\"}\n",
    "\n",
    "# The price of carrots is:\n",
    "print(prices[\"carrots\"])"
   ]
  },
  {
   "cell_type": "code",
   "execution_count": 40,
   "metadata": {},
   "outputs": [
    {
     "name": "stdout",
     "output_type": "stream",
     "text": [
      "[10]\n"
     ]
    }
   ],
   "source": [
    "ass = [prices[x] for x in prices.keys() if type(prices[x]) is int]\n",
    "print(ass)"
   ]
  },
  {
   "cell_type": "code",
   "execution_count": 35,
   "metadata": {},
   "outputs": [
    {
     "name": "stdout",
     "output_type": "stream",
     "text": [
      "57.5\n"
     ]
    }
   ],
   "source": [
    "total = 0.0\n",
    "for price in prices.keys():\n",
    "    if type(prices[price]) in (float, int):\n",
    "        total = total + prices[price]\n",
    "    else:\n",
    "        total += 42.0\n",
    "print(total)"
   ]
  },
  {
   "cell_type": "code",
   "execution_count": null,
   "metadata": {},
   "outputs": [],
   "source": []
  },
  {
   "cell_type": "markdown",
   "metadata": {},
   "source": [
    "Dictionaries have methods to return all their keywords, or their values. This is returned in the form of a list."
   ]
  },
  {
   "cell_type": "code",
   "execution_count": null,
   "metadata": {},
   "outputs": [],
   "source": [
    "print(prices.keys())\n",
    "print(prices.values())\n",
    "\n",
    "for ware in prices.keys():\n",
    "    print(\"The price of {name} is {price} euros per kg.\".format(name=ware,\n",
    "                                                                price=prices[ware])\n",
    "          )\n"
   ]
  },
  {
   "cell_type": "markdown",
   "metadata": {},
   "source": [
    "Other Tips & Tricks with variables. \n",
    "\n",
    "* Use the function type() to determine the type of a variable\n",
    "* A list and tuple can contain multiple types of variables, including lists and tuples themselves.\n",
    "* A dictionary can contain any possible data type as its value, including another dictionary.\n",
    "* Tuples and strings have the same indexing as lists. Subscription goes in exactly the same way.\n",
    "\n",
    "## Eindopdracht\n"
   ]
  },
  {
   "cell_type": "markdown",
   "metadata": {},
   "source": [
    "Suppose you are a student in a high school.\n",
    "What would be a good way to store all your grades for the subject Mathematics? (Your grades are on a scale from 1 to 10).\n",
    "Provide an example below."
   ]
  },
  {
   "cell_type": "code",
   "execution_count": null,
   "metadata": {},
   "outputs": [],
   "source": [
    "math = [5,6,8,4.5]\n",
    "print(math[3])"
   ]
  },
  {
   "cell_type": "markdown",
   "metadata": {},
   "source": [
    "Of course you have more than one subject in high school. How can you store all your grades for all your courses in an efficient/logical/easily accessible way? Show this in the example below"
   ]
  },
  {
   "cell_type": "code",
   "execution_count": null,
   "metadata": {},
   "outputs": [],
   "source": [
    "# Store grades for multiple subjects here."
   ]
  },
  {
   "cell_type": "markdown",
   "metadata": {},
   "source": [
    "Naturally, you are not the only one in your class. How will you store all the grades for your classmates as well? Again, the question is what is an efficient/logical/easily accesible manner to store all this data?"
   ]
  },
  {
   "cell_type": "code",
   "execution_count": 36,
   "metadata": {},
   "outputs": [
    {
     "name": "stdout",
     "output_type": "stream",
     "text": [
      "Jantje\n",
      "Math\n",
      "[6, 8, 3]\n",
      "Biology\n",
      "[9, 7, 8]\n",
      "Klaas\n",
      "Math\n",
      "[]\n",
      "Biology\n",
      "[8, 8, 7]\n"
     ]
    }
   ],
   "source": [
    "klasje = {\"Jantje\":\n",
    "            {\n",
    "                \"Math\": [6, 8, 3],\n",
    "                \"Biology\": [9, 7, 8]\n",
    "            },\n",
    "         \"Klaas\":\n",
    "             {\n",
    "                 \"Math\": [],\n",
    "                 \"Biology\": [8, 8, 7]\n",
    "             }\n",
    "        }\n",
    "\n",
    "for leerling in klasje.keys():\n",
    "    print(leerling)\n",
    "    for subject in klasje[leerling].keys():\n",
    "        print(subject)\n",
    "        print(klasje[leerling][subject])\n"
   ]
  }
 ],
 "metadata": {
  "celltoolbar": "Raw Cell Format",
  "kernelspec": {
   "display_name": "Python 3",
   "language": "python",
   "name": "python3"
  },
  "language_info": {
   "codemirror_mode": {
    "name": "ipython",
    "version": 3
   },
   "file_extension": ".py",
   "mimetype": "text/x-python",
   "name": "python",
   "nbconvert_exporter": "python",
   "pygments_lexer": "ipython3",
   "version": "3.6.5"
  }
 },
 "nbformat": 4,
 "nbformat_minor": 2
}
